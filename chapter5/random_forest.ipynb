{
 "cells": [
  {
   "cell_type": "markdown",
   "id": "60f3788a",
   "metadata": {},
   "source": [
    "## 트리의 앙상블\n",
    "+ 앙상블 학습은 더 좋은 예측 결과를 만들기 위해 여러 개의 모델을 훈련하는 머신러닝 알고리즘"
   ]
  },
  {
   "cell_type": "markdown",
   "id": "9df7e526",
   "metadata": {},
   "source": [
    "## 랜덤 포레스트\n",
    "+ 랜덤 포레스트는 앙상블 학습의 대표 주자중 하나로 안정적인 성능 덕분에 널리 사용\n",
    "+ 결정 트리를 랜덤하게 만들어 결정 트리의 숲을 만들고, 각 결정 트리의 예측을 사용해 최종 예측을 만든다"
   ]
  },
  {
   "cell_type": "code",
   "execution_count": 14,
   "id": "7ddca321",
   "metadata": {},
   "outputs": [],
   "source": [
    "import numpy as np\n",
    "import pandas as pd\n",
    "from sklearn.model_selection import train_test_split"
   ]
  },
  {
   "cell_type": "code",
   "execution_count": 15,
   "id": "21c272e4",
   "metadata": {},
   "outputs": [],
   "source": [
    "wine = pd.read_csv(\"https://bit.ly/wine_csv_data\")"
   ]
  },
  {
   "cell_type": "code",
   "execution_count": 16,
   "id": "925d8d91",
   "metadata": {},
   "outputs": [
    {
     "data": {
      "text/html": [
       "<div>\n",
       "<style scoped>\n",
       "    .dataframe tbody tr th:only-of-type {\n",
       "        vertical-align: middle;\n",
       "    }\n",
       "\n",
       "    .dataframe tbody tr th {\n",
       "        vertical-align: top;\n",
       "    }\n",
       "\n",
       "    .dataframe thead th {\n",
       "        text-align: right;\n",
       "    }\n",
       "</style>\n",
       "<table border=\"1\" class=\"dataframe\">\n",
       "  <thead>\n",
       "    <tr style=\"text-align: right;\">\n",
       "      <th></th>\n",
       "      <th>alcohol</th>\n",
       "      <th>sugar</th>\n",
       "      <th>pH</th>\n",
       "      <th>class</th>\n",
       "    </tr>\n",
       "  </thead>\n",
       "  <tbody>\n",
       "    <tr>\n",
       "      <th>0</th>\n",
       "      <td>9.4</td>\n",
       "      <td>1.9</td>\n",
       "      <td>3.51</td>\n",
       "      <td>0.0</td>\n",
       "    </tr>\n",
       "    <tr>\n",
       "      <th>1</th>\n",
       "      <td>9.8</td>\n",
       "      <td>2.6</td>\n",
       "      <td>3.20</td>\n",
       "      <td>0.0</td>\n",
       "    </tr>\n",
       "    <tr>\n",
       "      <th>2</th>\n",
       "      <td>9.8</td>\n",
       "      <td>2.3</td>\n",
       "      <td>3.26</td>\n",
       "      <td>0.0</td>\n",
       "    </tr>\n",
       "    <tr>\n",
       "      <th>3</th>\n",
       "      <td>9.8</td>\n",
       "      <td>1.9</td>\n",
       "      <td>3.16</td>\n",
       "      <td>0.0</td>\n",
       "    </tr>\n",
       "    <tr>\n",
       "      <th>4</th>\n",
       "      <td>9.4</td>\n",
       "      <td>1.9</td>\n",
       "      <td>3.51</td>\n",
       "      <td>0.0</td>\n",
       "    </tr>\n",
       "  </tbody>\n",
       "</table>\n",
       "</div>"
      ],
      "text/plain": [
       "   alcohol  sugar    pH  class\n",
       "0      9.4    1.9  3.51    0.0\n",
       "1      9.8    2.6  3.20    0.0\n",
       "2      9.8    2.3  3.26    0.0\n",
       "3      9.8    1.9  3.16    0.0\n",
       "4      9.4    1.9  3.51    0.0"
      ]
     },
     "execution_count": 16,
     "metadata": {},
     "output_type": "execute_result"
    }
   ],
   "source": [
    "wine.head()"
   ]
  },
  {
   "cell_type": "code",
   "execution_count": 17,
   "id": "6fcde0b9",
   "metadata": {},
   "outputs": [],
   "source": [
    "data = wine[['alcohol', 'sugar', 'pH']]\n",
    "target = wine['class']"
   ]
  },
  {
   "cell_type": "code",
   "execution_count": 18,
   "id": "921f6d42",
   "metadata": {},
   "outputs": [],
   "source": [
    "train_input, test_input, train_target, test_target = train_test_split(data, target, test_size = 0.2, random_state = 42)"
   ]
  },
  {
   "cell_type": "code",
   "execution_count": 19,
   "id": "6b5d3905",
   "metadata": {},
   "outputs": [],
   "source": [
    "from sklearn.model_selection import cross_validate\n",
    "from sklearn.ensemble import RandomForestClassifier"
   ]
  },
  {
   "cell_type": "code",
   "execution_count": 20,
   "id": "9eb4747b",
   "metadata": {},
   "outputs": [],
   "source": [
    "rf = RandomForestClassifier(n_jobs = -1, random_state = 42)"
   ]
  },
  {
   "cell_type": "code",
   "execution_count": 22,
   "id": "bc698876",
   "metadata": {},
   "outputs": [
    {
     "name": "stdout",
     "output_type": "stream",
     "text": [
      "0.9973541965122431 0.8905151032797809\n"
     ]
    }
   ],
   "source": [
    "scores = cross_validate(rf, train_input, train_target, return_train_score = True, n_jobs = -1)\n",
    "print(np.mean(scores['train_score']), np.mean(scores['test_score']))"
   ]
  },
  {
   "cell_type": "code",
   "execution_count": 24,
   "id": "cd7a9240",
   "metadata": {},
   "outputs": [
    {
     "name": "stdout",
     "output_type": "stream",
     "text": [
      "[0.23167441 0.50039841 0.26792718]\n"
     ]
    }
   ],
   "source": [
    "rf.fit(train_input, train_target)\n",
    "print(rf.feature_importances_)"
   ]
  },
  {
   "cell_type": "markdown",
   "id": "f5dc3797",
   "metadata": {},
   "source": [
    "### OOB(out of bag) 샘플\n",
    "+ 랜덤 포레스트는 훈련 세트에서 중복을 허용하여 부트스트랩 샘플을 만들고 결정 트리를 훈련시킴\n",
    "+ 이때 부트스트랩 샘플에 포함되지 않고 남는 샘플을 OOB샘플이라 부른다\n",
    "+ 이 남는 샘플을 사용하여 부트스트랩 샘플로 훈련한 결정 트리를 평가할 수 있다 -> 검증 세트의 역할"
   ]
  },
  {
   "cell_type": "code",
   "execution_count": 27,
   "id": "e350b992",
   "metadata": {},
   "outputs": [
    {
     "name": "stdout",
     "output_type": "stream",
     "text": [
      "0.8934000384837406\n"
     ]
    }
   ],
   "source": [
    "rf = RandomForestClassifier(oob_score = True, n_jobs = -1, random_state = 42)\n",
    "rf.fit(train_input, train_target)\n",
    "print(rf.oob_score_)"
   ]
  },
  {
   "cell_type": "markdown",
   "id": "c35b14fb",
   "metadata": {},
   "source": [
    "## 엑스트라 트리\n",
    "+ 기본적으로 랜덤 포레스트와 매우 비슷하게 동작\n",
    "+ 랜덤 포레스트와의 차이는 부트스트랩 샘플을 사용하지 않음 -> 전체 샘플 사용\n",
    "+ 대신 도르를 분할할 때 가장 좋은 분할을 찾는 것이 아니라, 무작위로 분할"
   ]
  },
  {
   "cell_type": "code",
   "execution_count": 28,
   "id": "0bb42df2",
   "metadata": {},
   "outputs": [],
   "source": [
    "from sklearn.ensemble import ExtraTreesClassifier"
   ]
  },
  {
   "cell_type": "code",
   "execution_count": 29,
   "id": "34ba1a7a",
   "metadata": {},
   "outputs": [
    {
     "name": "stdout",
     "output_type": "stream",
     "text": [
      "0.9974503966084433 0.8887848893166506\n"
     ]
    }
   ],
   "source": [
    "et = ExtraTreesClassifier(n_jobs = -1, random_state = 42)\n",
    "scores = cross_validate(et, train_input, train_target, return_train_score = True, n_jobs = -1)\n",
    "print(np.mean(scores['train_score']), np.mean(scores['test_score']))"
   ]
  },
  {
   "cell_type": "code",
   "execution_count": 30,
   "id": "b15aa4ae",
   "metadata": {},
   "outputs": [
    {
     "name": "stdout",
     "output_type": "stream",
     "text": [
      "[0.20183568 0.52242907 0.27573525]\n"
     ]
    }
   ],
   "source": [
    "et.fit(train_input, train_target)\n",
    "print(et.feature_importances_)"
   ]
  },
  {
   "cell_type": "markdown",
   "id": "65d7d2dd",
   "metadata": {},
   "source": [
    "## 그래디언트 부스팅\n",
    "+ 깊이가 얕은 결정 트리를 사용하여 이전 트리의 오차를 보완하는 방식으로 앙상블 하는 방법\n",
    "+ 경사하강법을 사용하여 트리를 앙상블에 추가"
   ]
  },
  {
   "cell_type": "code",
   "execution_count": 31,
   "id": "91325b16",
   "metadata": {},
   "outputs": [],
   "source": [
    "from sklearn.ensemble import GradientBoostingClassifier"
   ]
  },
  {
   "cell_type": "code",
   "execution_count": 32,
   "id": "e7b74eab",
   "metadata": {},
   "outputs": [
    {
     "name": "stdout",
     "output_type": "stream",
     "text": [
      "0.8881086892152563 0.8720430147331015\n"
     ]
    }
   ],
   "source": [
    "gb =GradientBoostingClassifier(random_state = 42)\n",
    "scores = cross_validate(gb, train_input, train_target, return_train_score = True, n_jobs = -1)\n",
    "print(np.mean(scores['train_score']), np.mean(scores['test_score']))"
   ]
  },
  {
   "cell_type": "code",
   "execution_count": 33,
   "id": "7eb0687f",
   "metadata": {},
   "outputs": [
    {
     "name": "stdout",
     "output_type": "stream",
     "text": [
      "0.9464595437171814 0.8780082549788999\n"
     ]
    }
   ],
   "source": [
    "gb =GradientBoostingClassifier(n_estimators = 500, learning_rate = 0.2, random_state = 42)\n",
    "scores = cross_validate(gb, train_input, train_target, return_train_score = True, n_jobs = -1)\n",
    "print(np.mean(scores['train_score']), np.mean(scores['test_score']))"
   ]
  },
  {
   "cell_type": "code",
   "execution_count": 34,
   "id": "bbf8ae8f",
   "metadata": {},
   "outputs": [
    {
     "name": "stdout",
     "output_type": "stream",
     "text": [
      "[0.15882696 0.6799705  0.16120254]\n"
     ]
    }
   ],
   "source": [
    "gb.fit(train_input, train_target)\n",
    "print(gb.feature_importances_)"
   ]
  },
  {
   "cell_type": "markdown",
   "id": "fb118894",
   "metadata": {},
   "source": [
    "## 히스토그램 기반 그래디언트 부스팅\n",
    "+ 히스토그램 기반 그래디언트 부스팅은 입력 특성을 256개의 구간으로 나눈다\n",
    "+ 256개의 구간중 하나를 떼어 놓고 누락된 값을 위해 사용하기 때문에, 입력에 누락된 특성이 있더라도 이를 따로 전처리 할 필요가 없다"
   ]
  },
  {
   "cell_type": "code",
   "execution_count": 35,
   "id": "a3306555",
   "metadata": {},
   "outputs": [],
   "source": [
    "from sklearn.ensemble import HistGradientBoostingClassifier"
   ]
  },
  {
   "cell_type": "code",
   "execution_count": 36,
   "id": "b7ac88d2",
   "metadata": {},
   "outputs": [
    {
     "name": "stdout",
     "output_type": "stream",
     "text": [
      "0.9321723946453317 0.8801241948619236\n"
     ]
    }
   ],
   "source": [
    "hgb = HistGradientBoostingClassifier(random_state = 42)\n",
    "scores = cross_validate(hgb, train_input, train_target, return_train_score = True)\n",
    "print(np.mean(scores['train_score']), np.mean(scores['test_score']))"
   ]
  },
  {
   "cell_type": "code",
   "execution_count": 37,
   "id": "ba29e716",
   "metadata": {},
   "outputs": [],
   "source": [
    "from sklearn.inspection import permutation_importance # 특성을 하나씩 랜덤하게 섞어 모델의 성능이 변화하는지 관찰 -> 중요한 특성 계산"
   ]
  },
  {
   "cell_type": "code",
   "execution_count": 38,
   "id": "70e6cdee",
   "metadata": {},
   "outputs": [
    {
     "name": "stdout",
     "output_type": "stream",
     "text": [
      "[0.08876275 0.23438522 0.08027708]\n"
     ]
    }
   ],
   "source": [
    "hgb.fit(train_input, train_target)\n",
    "result = permutation_importance(hgb, train_input, train_target, n_repeats = 10, random_state = 42, n_jobs = -1)\n",
    "print(result.importances_mean)"
   ]
  },
  {
   "cell_type": "code",
   "execution_count": 39,
   "id": "25017418",
   "metadata": {},
   "outputs": [
    {
     "name": "stdout",
     "output_type": "stream",
     "text": [
      "[0.05969231 0.20238462 0.049     ]\n"
     ]
    }
   ],
   "source": [
    "result = permutation_importance(hgb, test_input, test_target, n_repeats = 10, random_state = 42, n_jobs = -1)\n",
    "print(result.importances_mean)"
   ]
  },
  {
   "cell_type": "code",
   "execution_count": 40,
   "id": "53c6c1f9",
   "metadata": {},
   "outputs": [
    {
     "data": {
      "text/plain": [
       "0.8723076923076923"
      ]
     },
     "execution_count": 40,
     "metadata": {},
     "output_type": "execute_result"
    }
   ],
   "source": [
    "hgb.score(test_input, test_target)"
   ]
  },
  {
   "cell_type": "code",
   "execution_count": null,
   "id": "a8c74664",
   "metadata": {},
   "outputs": [],
   "source": [
    "from xgboost import XGBClassifier # 다양한 부스팅 알고리즘을 지원하는 라이브러리"
   ]
  },
  {
   "cell_type": "code",
   "execution_count": 42,
   "id": "fbb5d9f5",
   "metadata": {},
   "outputs": [],
   "source": [
    "xgb = XGBClassifier(tree_method = 'hist', random_state = 42)"
   ]
  },
  {
   "cell_type": "code",
   "execution_count": 43,
   "id": "d7109c03",
   "metadata": {},
   "outputs": [],
   "source": [
    "\n",
    "scores = cross_validate(xgb, train_input, train_target, return_train_score = True)"
   ]
  },
  {
   "cell_type": "code",
   "execution_count": 44,
   "id": "be2587c7",
   "metadata": {},
   "outputs": [
    {
     "name": "stdout",
     "output_type": "stream",
     "text": [
      "0.9567059184812372 0.8783915747390243\n"
     ]
    }
   ],
   "source": [
    "print(np.mean(scores['train_score']), np.mean(scores['test_score']))"
   ]
  },
  {
   "cell_type": "code",
   "execution_count": 45,
   "id": "d20cd1c4",
   "metadata": {},
   "outputs": [],
   "source": [
    "from lightgbm import LGBMClassifier"
   ]
  },
  {
   "cell_type": "code",
   "execution_count": 46,
   "id": "5bca926e",
   "metadata": {},
   "outputs": [],
   "source": [
    "lgb = LGBMClassifier(random_state = 42)\n",
    "scores = cross_validate(lgb, train_input, train_target, return_train_score = True, n_jobs = -1)"
   ]
  },
  {
   "cell_type": "code",
   "execution_count": 47,
   "id": "f03ce8cf",
   "metadata": {},
   "outputs": [
    {
     "name": "stdout",
     "output_type": "stream",
     "text": [
      "0.935828414851749 0.8801251203079884\n"
     ]
    }
   ],
   "source": [
    "print(np.mean(scores['train_score']), np.mean(scores['test_score']))"
   ]
  },
  {
   "cell_type": "code",
   "execution_count": null,
   "id": "6be27b34",
   "metadata": {},
   "outputs": [],
   "source": []
  }
 ],
 "metadata": {
  "kernelspec": {
   "display_name": "Python 3",
   "language": "python",
   "name": "python3"
  },
  "language_info": {
   "codemirror_mode": {
    "name": "ipython",
    "version": 3
   },
   "file_extension": ".py",
   "mimetype": "text/x-python",
   "name": "python",
   "nbconvert_exporter": "python",
   "pygments_lexer": "ipython3",
   "version": "3.11.9"
  }
 },
 "nbformat": 4,
 "nbformat_minor": 5
}

{
 "cells": [
  {
   "cell_type": "markdown",
   "id": "fd40dd99",
   "metadata": {},
   "source": [
    "## 합성곱(Convolution)"
   ]
  },
  {
   "cell_type": "code",
   "execution_count": null,
   "id": "f9fb2c3c",
   "metadata": {},
   "outputs": [],
   "source": [
    "from tensorflow import keras"
   ]
  },
  {
   "cell_type": "markdown",
   "id": "21cba987",
   "metadata": {},
   "source": [
    "keras.layers.conv2D(10, kernel_size = (3, 3), actvation = 'relu')\n",
    "+ 첫번째 파라미터는 필터의 수\n",
    "+ 두번쨰 파라미터 kernel_size는 커널의 크기\n",
    "+ 마지막은 활성함수 지정"
   ]
  },
  {
   "cell_type": "markdown",
   "id": "1a6c941a",
   "metadata": {},
   "source": [
    "## 패딩과 스트라이드\n",
    "### 패딩\n",
    "+ 입력과 특성 맵의 크기를 동일하게 만들기 위해 입력 배열 주위를 가상의 원소로 채우는 것\n",
    "+ 실제 입력값이 아니기 때문에 0으로 채우고, 이는 실제 계산에 영향을 미치지 않는다\n",
    "+ 입력 맵 주위를 0으로 채우는 새임 패딩, 순수한 입력 배열에서만 합성곱을 하여 특성 매을 만드는 경우를 밸리드 패딩이라 부른다\n",
    "\n",
    "### 스트라이드\n",
    "+ 커널이 이동하는 크기\n",
    "\n",
    "### 풀링\n",
    "+ 특성 맵의 가로세로 크기를 줄이는 역할을 수행\n",
    "+ 커널 영역에서 가장 큰 값을 고르는 맥스 풀링, 평균값을 고르는 평균 풀링"
   ]
  }
 ],
 "metadata": {
  "kernelspec": {
   "display_name": "Python 3",
   "language": "python",
   "name": "python3"
  },
  "language_info": {
   "codemirror_mode": {
    "name": "ipython",
    "version": 3
   },
   "file_extension": ".py",
   "mimetype": "text/x-python",
   "name": "python",
   "nbconvert_exporter": "python",
   "pygments_lexer": "ipython3",
   "version": "3.11.9"
  }
 },
 "nbformat": 4,
 "nbformat_minor": 5
}

{
 "cells": [
  {
   "cell_type": "markdown",
   "id": "1e7bf180",
   "metadata": {},
   "source": [
    "## 순차 데이터와 순환 신경망\n"
   ]
  },
  {
   "cell_type": "markdown",
   "id": "a4fbc1f3",
   "metadata": {},
   "source": [
    "### 순차 데이터\n",
    "\n",
    "+ 순차 데이터는 텍스트나 시계열 데이터(일정한 시간 간격으로 기록된 데이터)와 같이 순서에 의미가 있는 데이터\n",
    "+ 예시로, 댓글 즉 텍스트 데이터는 단어의 순서가 중요하나 순차 데이터\n",
    "+ 이런 데이터는 순서를 유지하며 신경망에 주입해야 한다 -> 단어의 순서가 뒤바뀌면 안된다\n",
    "+ 따라서 순차 데이터를 다룰 때에는 이전에 입력한 데이터를 기억하는 기능이 필요"
   ]
  },
  {
   "cell_type": "markdown",
   "id": "a5cc34d0",
   "metadata": {},
   "source": [
    "+ 완전 연결 신경망이나, 합성곱 신경망은 하나의 샘플 또는 배치를 사용하여 정방향 계산을 수행한 후 그 샘플은 버려지고, 다음 샘플을 처리할때 사용하지 않는다.\n",
    "+ 이렇게 입력 데이터의 흐름이 앞으로만 전달되는 신경망을 **피드포워드 신경망**이라 부른다"
   ]
  },
  {
   "cell_type": "markdown",
   "id": "8bfdfe4c",
   "metadata": {},
   "source": [
    "### 순환 신경망\n",
    "+ A, B, C 라는 데이터를 처리할 때 첫번째 샘플인 A를 처리하고 난 출력(O<sub>A</sub>)이 다시 뉴런으로 들어가고, B를 처리할 때 A의 출력을 함께 사용(O<sub>B</sub>)\n",
    "+ C를 처리할 때 A의 정보가 일부 포함된 O<sub>B</sub>를 사용, 즉 O<sub>C</sub>에는 A와 B의 정보가 담겨있다\n",
    "<br><br/>\n",
    "+ O<sub>C</sub>에는 B에 대한 정보가 더 많을것이다. 그래서 순환 신경망에서는 '이전 샘플에 대한 기억을 가지고 있다' 라고 종종 말하고<br>\n",
    "이렇게 샘플을 처리하는 한 단계를 **타임스텝** 이라고 부른다. \n",
    "<br></br>\n",
    "+ 순환 신경망에서는 특별히 층을 셀이라고 부른다.\n",
    "+ 한 셀에는 여러 개의 뉴런이 있지만, 완전 연결 신경망과 달리 뉴런을 모두 표시하지 않고 하나의 셀로 층을 표현한다. 또 셀의 출력을 **은닉 상태** 라고 부른다.\n",
    "<br></br>\n",
    "+ 일반적으로 은닉층의 활성함수는 **하이퍼볼릭 탄젠트(tanh)** 를 사용한다.\n",
    "+ tanh함수는 시그모이드 함수와는 달리 -1 ~ 1 사이의 값을 가진다(시그모이드 함수는 0 ~ 1)\n"
   ]
  },
  {
   "cell_type": "code",
   "execution_count": null,
   "id": "840a8848",
   "metadata": {},
   "outputs": [],
   "source": []
  },
  {
   "cell_type": "code",
   "execution_count": null,
   "id": "20bf9b57",
   "metadata": {},
   "outputs": [],
   "source": []
  },
  {
   "cell_type": "code",
   "execution_count": null,
   "id": "26790590",
   "metadata": {},
   "outputs": [],
   "source": []
  },
  {
   "cell_type": "code",
   "execution_count": null,
   "id": "67ee5fb1",
   "metadata": {},
   "outputs": [],
   "source": []
  }
 ],
 "metadata": {
  "language_info": {
   "name": "python"
  }
 },
 "nbformat": 4,
 "nbformat_minor": 5
}
